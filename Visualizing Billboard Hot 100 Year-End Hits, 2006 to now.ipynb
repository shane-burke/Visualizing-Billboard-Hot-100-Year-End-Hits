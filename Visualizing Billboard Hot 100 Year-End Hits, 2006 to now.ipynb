{
 "cells": [
  {
   "cell_type": "markdown",
   "metadata": {},
   "source": [
    "### Shane Burke"
   ]
  },
  {
   "cell_type": "markdown",
   "metadata": {},
   "source": [
    "### <b>Importing packages</b>:"
   ]
  },
  {
   "cell_type": "code",
   "execution_count": null,
   "metadata": {},
   "outputs": [],
   "source": [
    "import requests\n",
    "import pandas as pd\n",
    "from bs4 import BeautifulSoup\n",
    "import re\n",
    "from pprintpp import pprint as pp\n",
    "import time"
   ]
  },
  {
   "cell_type": "markdown",
   "metadata": {},
   "source": [
    "### <b>Gathering songs from Billboard:</b>\n",
    "* Defining the function to gather each year's top 100 songs and artists from site HTML.\n",
    "    * Separating featured artists with RegEx -- there are a few notations for features. Let's assume first listed is the \"artist.\"\n",
    "    * Appending them all to a dictionary.\n",
    "    * Using the length of the \"titles\" section because some years have missing values. For instance, 2011 had no 7 \n",
    "        in its list.\n",
    "* Running the gathering function.\n",
    "* Bringing the dictionary to a dataframe."
   ]
  },
  {
   "cell_type": "code",
   "execution_count": null,
   "metadata": {},
   "outputs": [],
   "source": [
    "songs = []\n",
    "\n",
    "def info_gathering(year):\n",
    "\n",
    "    url = f'https://www.billboard.com/charts/year-end/{year}/hot-100-songs'\n",
    "    raw_html = requests.get(url).content\n",
    "    soup_doc = BeautifulSoup(raw_html, \"html.parser\")\n",
    "\n",
    "    titles = soup_doc.find_all(class_=\"ye-chart-item__title\")\n",
    "    artists = soup_doc.find_all(class_=\"ye-chart-item__artist\")\n",
    "\n",
    "    song_range = list(range(0, len(titles)))\n",
    "    for song in song_range:\n",
    "        ranking = song+1\n",
    "        title = titles[song].string.strip()\n",
    "        artist = artists[song].get_text().strip()  \n",
    "\n",
    "        #Teasing out the main artist by removing featured artists with different notations\n",
    "        featured_artist = \"n/a\"\n",
    "\n",
    "        if \", \" in artist:\n",
    "            featured_artist = re.findall(r\"^.+, (.+)$\",artist)[0]\n",
    "            artist = re.findall(r\"^(.+),\",artist)[0]\n",
    "\n",
    "        if \"Featuring\" in artist:\n",
    "            featured_artist = re.findall(r\"^.+ \\(?Featuring (.+)$\",artist)[0]\n",
    "            artist = re.findall(r\"^(.+) \\(?Featuring\",artist)[0]\n",
    "\n",
    "        if \"&\" in artist:\n",
    "            featured_artist = re.findall(r\"^.+ & (.+)$\",artist)[0]\n",
    "            artist = re.findall(r\"^(.+) &\",artist)[0]\n",
    "\n",
    "        if \" X \" in artist:\n",
    "            featured_artist = re.findall(r\"^.+ X (.+)$\",artist)[0]\n",
    "            artist = re.findall(r\"^(.+) X\",artist)[0]\n",
    "\n",
    "        songs.append({'year' : year, 'rank' : ranking, 'title' : title, 'artist' : artist, 'featured_artist' : featured_artist})\n",
    "\n"
   ]
  },
  {
   "cell_type": "code",
   "execution_count": null,
   "metadata": {},
   "outputs": [],
   "source": [
    "year_range = list(range(2006, 2020))\n",
    "\n",
    "for year in year_range:\n",
    "    info_gathering(year)"
   ]
  },
  {
   "cell_type": "code",
   "execution_count": null,
   "metadata": {},
   "outputs": [],
   "source": [
    "#Pretty printing the songs to see what the dictionary looks like\n",
    "#pp(songs)"
   ]
  },
  {
   "cell_type": "code",
   "execution_count": null,
   "metadata": {},
   "outputs": [],
   "source": [
    "df = pd.DataFrame(songs)"
   ]
  },
  {
   "cell_type": "code",
   "execution_count": null,
   "metadata": {},
   "outputs": [],
   "source": [
    "#Looking at section of the dataframe \n",
    "#df.tail(10)"
   ]
  },
  {
   "cell_type": "code",
   "execution_count": null,
   "metadata": {},
   "outputs": [],
   "source": [
    "df.artist.value_counts()\n",
    "#Gives us the artists with the most year-end entries"
   ]
  },
  {
   "cell_type": "markdown",
   "metadata": {},
   "source": [
    "### <b> Pulling artists' hometowns with the Musicbrainz.com API </b>\n",
    "* Setting the dataframe up for our new columns\n",
    "* Defining genre with a function\n",
    "* Pulling location and genre from the API (takes half an hour)\n",
    "* Saving dataframe to CSV"
   ]
  },
  {
   "cell_type": "code",
   "execution_count": null,
   "metadata": {},
   "outputs": [],
   "source": [
    "#Setting up the dataframes to include tags for location and genre based on what musicbrainz has.\n",
    "\n",
    "df['area_name'] = \"n/a\"\n",
    "df['area_type'] = \"n/a\"\n",
    "df['begin_area_name'] = \"n/a\"\n",
    "df['begin_area_type'] = \"n/a\"\n",
    "df['country'] = \"n/a\"\n",
    "df['genre1'] = \"n/a\"\n",
    "df['genre2'] = \"n/a\"\n",
    "df['genre3'] = \"n/a\"\n",
    "\n",
    "df"
   ]
  },
  {
   "cell_type": "code",
   "execution_count": null,
   "metadata": {},
   "outputs": [],
   "source": [
    "#Defining the genre based on the top 3 tags. \n",
    "#There are up to 10 tags per artist in a dictionary, with a \"count\" to decide how good a match they are to this tag.\n",
    "#The top genres are not listed in order, so this function will loop through them, rank, and knock out any that aren't top 3.\n",
    "\n",
    "def genre_tags(artist_data):\n",
    "    tag1 = ''\n",
    "    tag1count = 0\n",
    "    tag2 = ''\n",
    "    tag2count = 0\n",
    "    tag3 = ''\n",
    "    tag3count = 0\n",
    "\n",
    "    for tag in artist_data['artists'][0]['tags']:\n",
    "        if tag['count'] > tag1count:\n",
    "            tag2 = tag1\n",
    "            tag2count = tag1count\n",
    "            tag1 = tag['name']\n",
    "            tag1count = tag['count']\n",
    "        elif tag['count'] > tag2count:\n",
    "            tag3 = tag2\n",
    "            tag3count = tag2count\n",
    "            tag2 = tag['name']\n",
    "            tag2count = tag['count']\n",
    "        elif tag['count'] > tag3count:\n",
    "            tag3 = tag['name']\n",
    "            tag3count = tag['count']\n",
    "    \n",
    "    return [tag1, tag2, tag3]"
   ]
  },
  {
   "cell_type": "code",
   "execution_count": null,
   "metadata": {},
   "outputs": [],
   "source": [
    "#Pulling artist tags with the API\n",
    "#The API limits requests to 1 per second, so we have a 1.75 second timer in case.\n",
    "#This takes about half an hour to run. When each row is finished, it prints \"~*~*~\" to show progress.\n",
    "\n",
    "#These queries generate a list of artists who might match. Usually the first one is correct.\n",
    "#So we're pulling area and genre with the first element of each query's list, as indicated by the [0] in artist_guess.\n",
    "\n",
    "musician_row = -1\n",
    "\n",
    "for musician in df.artist:\n",
    "    musician_row = musician_row+1\n",
    "    \n",
    "    url = f'https://musicbrainz.org/ws/2/artist/?query=artist:{musician}&fmt=json'\n",
    "    response = requests.get(url)\n",
    "    time.sleep(1.75)\n",
    "    artist_data = response.json()\n",
    "    \n",
    "    artist_guess = artist_data['artists'][0]\n",
    "    \n",
    "    if \"area\" in artist_guess.keys():\n",
    "        if \"name\" in artist_guess['area'].keys():\n",
    "            df.iloc[musician_row, 5] = artist_guess['area']['name']\n",
    "        if \"type\" in artist_guess['area'].keys():\n",
    "            df.iloc[musician_row, 6] = artist_guess['area']['type']\n",
    "    \n",
    "    if \"begin-area\" in artist_guess.keys():\n",
    "        if \"name\" in artist_guess['begin-area'].keys():\n",
    "            df.iloc[musician_row, 7] = artist_guess['begin-area']['name']\n",
    "        if \"type\" in artist_guess['begin-area'].keys():\n",
    "            df.iloc[musician_row, 8] = artist_guess['begin-area']['type']\n",
    "\n",
    "    if \"country\" in artist_guess.keys():\n",
    "        df.iloc[musician_row, 9] = artist_guess['country']\n",
    "\n",
    "    if \"tags\" in artist_guess.keys():\n",
    "        tag_list = genre_tags(artist_data)\n",
    "        df.iloc[musician_row, 10] = tag_list[0]\n",
    "        df.iloc[musician_row, 11] = tag_list[1]\n",
    "        df.iloc[musician_row, 12] = tag_list[2]\n",
    "    \n",
    "    print(\"~*~*~\")"
   ]
  },
  {
   "cell_type": "code",
   "execution_count": null,
   "metadata": {},
   "outputs": [],
   "source": [
    "df"
   ]
  },
  {
   "cell_type": "code",
   "execution_count": null,
   "metadata": {},
   "outputs": [],
   "source": [
    "#Saving our dataframe to a CSV\n",
    "df.to_csv(r'/Users/shaneburke/Desktop/Billboard_Scrape.csv')"
   ]
  },
  {
   "cell_type": "markdown",
   "metadata": {},
   "source": [
    "## To be continued:\n",
    "* Cleaning location data\n",
    "* Mapping artists' presence across space over the years\n",
    "* Visualizing genre distribution over the year\n",
    "* Tracing trends -- like prominence of different cities' rap scenes, Spanish-language hits, \"The British Invasion\", and the impact of streaming on the geography of the music industry."
   ]
  },
  {
   "cell_type": "code",
   "execution_count": null,
   "metadata": {},
   "outputs": [],
   "source": []
  }
 ],
 "metadata": {
  "kernelspec": {
   "display_name": "Python 3",
   "language": "python",
   "name": "python3"
  },
  "language_info": {
   "codemirror_mode": {
    "name": "ipython",
    "version": 3
   },
   "file_extension": ".py",
   "mimetype": "text/x-python",
   "name": "python",
   "nbconvert_exporter": "python",
   "pygments_lexer": "ipython3",
   "version": "3.8.2"
  }
 },
 "nbformat": 4,
 "nbformat_minor": 4
}
