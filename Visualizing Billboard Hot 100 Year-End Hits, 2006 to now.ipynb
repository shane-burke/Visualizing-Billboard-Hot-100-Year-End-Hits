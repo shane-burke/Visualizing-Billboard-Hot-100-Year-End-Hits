{
 "cells": [
  {
   "cell_type": "markdown",
   "metadata": {},
   "source": [
    "### Shane Burke"
   ]
  },
  {
   "cell_type": "markdown",
   "metadata": {},
   "source": [
    "### <b>Importing packages</b>:"
   ]
  },
  {
   "cell_type": "code",
   "execution_count": 4,
   "metadata": {},
   "outputs": [
    {
     "name": "stderr",
     "output_type": "stream",
     "text": [
      "/Users/shaneburke/.pyenv/versions/3.8.2/lib/python3.8/site-packages/pandas/compat/__init__.py:120: UserWarning: Could not import the lzma module. Your installed Python is incomplete. Attempting to use lzma compression will result in a RuntimeError.\n",
      "  warnings.warn(msg)\n"
     ]
    }
   ],
   "source": [
    "import requests\n",
    "import pandas as pd\n",
    "from bs4 import BeautifulSoup\n",
    "import re\n",
    "from pprintpp import pprint as pp\n",
    "import time\n"
   ]
  },
  {
   "cell_type": "markdown",
   "metadata": {},
   "source": [
    "# <i>Part 1:</i> Gathering songs from Billboard:\n",
    "* Defining the function to gather each year's top 100 songs and artists from site HTML.\n",
    "    * Separating featured artists with RegEx -- there are a few notations for features. Let's assume first listed is the \"artist.\"\n",
    "    * Appending them all to a dictionary.\n",
    "    * Using the length of the \"titles\" section because some years have missing values. For instance, 2011 had no 7 \n",
    "        in its list.\n",
    "* Running the gathering function.\n",
    "* Bringing the dictionary to a dataframe."
   ]
  },
  {
   "cell_type": "code",
   "execution_count": null,
   "metadata": {},
   "outputs": [],
   "source": [
    "songs = []\n",
    "\n",
    "def info_gathering(year):\n",
    "\n",
    "    url = f'https://www.billboard.com/charts/year-end/{year}/hot-100-songs'\n",
    "    raw_html = requests.get(url).content\n",
    "    soup_doc = BeautifulSoup(raw_html, \"html.parser\")\n",
    "\n",
    "    titles = soup_doc.find_all(class_=\"ye-chart-item__title\")\n",
    "    artists = soup_doc.find_all(class_=\"ye-chart-item__artist\")\n",
    "\n",
    "    song_range = list(range(0, len(titles)))\n",
    "    for song in song_range:\n",
    "        ranking = song+1\n",
    "        title = titles[song].string.strip()\n",
    "        artist = artists[song].get_text().strip()  \n",
    "\n",
    "        #Teasing out the main artist by removing featured artists with different notations\n",
    "        featured_artist = \"n/a\"\n",
    "\n",
    "        if \", \" in artist:\n",
    "            featured_artist = re.findall(r\"^.+, (.+)$\",artist)[0]\n",
    "            artist = re.findall(r\"^(.+),\",artist)[0]\n",
    "\n",
    "        if \"Featuring\" in artist:\n",
    "            featured_artist = re.findall(r\"^.+ \\(?Featuring (.+)$\",artist)[0]\n",
    "            artist = re.findall(r\"^(.+) \\(?Featuring\",artist)[0]\n",
    "\n",
    "        if \"&\" in artist:\n",
    "            featured_artist = re.findall(r\"^.+ & (.+)$\",artist)[0]\n",
    "            artist = re.findall(r\"^(.+) &\",artist)[0]\n",
    "\n",
    "        if \" X \" in artist:\n",
    "            featured_artist = re.findall(r\"^.+ X (.+)$\",artist)[0]\n",
    "            artist = re.findall(r\"^(.+) X\",artist)[0]\n",
    "\n",
    "        songs.append({'year' : year, 'rank' : ranking, 'title' : title, 'artist' : artist, 'featured_artist' : featured_artist})\n",
    "\n"
   ]
  },
  {
   "cell_type": "code",
   "execution_count": null,
   "metadata": {},
   "outputs": [],
   "source": [
    "year_range = list(range(2006, 2020))\n",
    "\n",
    "for year in year_range:\n",
    "    info_gathering(year)"
   ]
  },
  {
   "cell_type": "code",
   "execution_count": null,
   "metadata": {},
   "outputs": [],
   "source": [
    "df = pd.DataFrame(songs)"
   ]
  },
  {
   "cell_type": "code",
   "execution_count": null,
   "metadata": {},
   "outputs": [],
   "source": [
    "df.artist.value_counts()\n",
    "#Gives us the artists with the most year-end entries"
   ]
  },
  {
   "cell_type": "markdown",
   "metadata": {},
   "source": [
    "***************\n",
    "# <i>Part 2:</i> Pulling artists' genres (and some geographic information) with the Musicbrainz.com API\n",
    "* Setting the dataframe up for our new columns\n",
    "* Defining genre with a function\n",
    "* Pulling location and genre from the API (takes half an hour)\n",
    "* Saving dataframe to CSV"
   ]
  },
  {
   "cell_type": "code",
   "execution_count": null,
   "metadata": {},
   "outputs": [],
   "source": [
    "#Setting up the dataframes to include tags for location and genre based on what musicbrainz has.\n",
    "\n",
    "df['area_name'] = \"n/a\"\n",
    "df['area_type'] = \"n/a\"\n",
    "df['begin_area_name'] = \"n/a\"\n",
    "df['begin_area_type'] = \"n/a\"\n",
    "df['country'] = \"n/a\"\n",
    "df['genre1'] = \"n/a\"\n",
    "df['genre2'] = \"n/a\"\n",
    "df['genre3'] = \"n/a\"\n",
    "\n",
    "df"
   ]
  },
  {
   "cell_type": "code",
   "execution_count": null,
   "metadata": {},
   "outputs": [],
   "source": [
    "#Defining the genre based on the top 3 tags. \n",
    "#There are up to 10 tags per artist in a dictionary, with a \"count\" to decide how good a match they are to this tag.\n",
    "#The top genres are not listed in order, so this function will loop through them, rank, and knock out any that aren't top 3.\n",
    "\n",
    "def genre_tags(artist_data):\n",
    "    tag1 = ''\n",
    "    tag1count = 0\n",
    "    tag2 = ''\n",
    "    tag2count = 0\n",
    "    tag3 = ''\n",
    "    tag3count = 0\n",
    "\n",
    "    for tag in artist_data['artists'][0]['tags']:\n",
    "        if tag['count'] > tag1count:\n",
    "            tag2 = tag1\n",
    "            tag2count = tag1count\n",
    "            tag1 = tag['name']\n",
    "            tag1count = tag['count']\n",
    "        elif tag['count'] > tag2count:\n",
    "            tag3 = tag2\n",
    "            tag3count = tag2count\n",
    "            tag2 = tag['name']\n",
    "            tag2count = tag['count']\n",
    "        elif tag['count'] > tag3count:\n",
    "            tag3 = tag['name']\n",
    "            tag3count = tag['count']\n",
    "    \n",
    "    return [tag1, tag2, tag3]"
   ]
  },
  {
   "cell_type": "code",
   "execution_count": null,
   "metadata": {},
   "outputs": [],
   "source": [
    "#Pulling artist tags with the API\n",
    "#The API limits requests to 1 per second, so we have a 1.75 second timer in case.\n",
    "#This takes about half an hour to run. When each row is finished, it prints \"~*~*~\" to show progress.\n",
    "\n",
    "#These queries generate a list of artists who might match. Usually the first one is correct.\n",
    "#So we're pulling area and genre with the first element of each query's list, as indicated by the [0] in artist_guess.\n",
    "\n",
    "musician_row = -1\n",
    "\n",
    "for musician in df.artist:\n",
    "    musician_row = musician_row+1\n",
    "    \n",
    "    url = f'https://musicbrainz.org/ws/2/artist/?query=artist:{musician}&fmt=json'\n",
    "    response = requests.get(url)\n",
    "    time.sleep(1.75)\n",
    "    artist_data = response.json()\n",
    "    \n",
    "    artist_guess = artist_data['artists'][0]\n",
    "    \n",
    "    if \"area\" in artist_guess.keys():\n",
    "        if \"name\" in artist_guess['area'].keys():\n",
    "            df.iloc[musician_row, 5] = artist_guess['area']['name']\n",
    "        if \"type\" in artist_guess['area'].keys():\n",
    "            df.iloc[musician_row, 6] = artist_guess['area']['type']\n",
    "    \n",
    "    if \"begin-area\" in artist_guess.keys():\n",
    "        if \"name\" in artist_guess['begin-area'].keys():\n",
    "            df.iloc[musician_row, 7] = artist_guess['begin-area']['name']\n",
    "        if \"type\" in artist_guess['begin-area'].keys():\n",
    "            df.iloc[musician_row, 8] = artist_guess['begin-area']['type']\n",
    "\n",
    "    if \"country\" in artist_guess.keys():\n",
    "        df.iloc[musician_row, 9] = artist_guess['country']\n",
    "\n",
    "    if \"tags\" in artist_guess.keys():\n",
    "        tag_list = genre_tags(artist_data)\n",
    "        df.iloc[musician_row, 10] = tag_list[0]\n",
    "        df.iloc[musician_row, 11] = tag_list[1]\n",
    "        df.iloc[musician_row, 12] = tag_list[2]\n",
    "    \n",
    "    print(\"~*~*~\")"
   ]
  },
  {
   "cell_type": "code",
   "execution_count": null,
   "metadata": {},
   "outputs": [],
   "source": [
    "df"
   ]
  },
  {
   "cell_type": "code",
   "execution_count": null,
   "metadata": {},
   "outputs": [],
   "source": [
    "#Saving our dataframe to a CSV\n",
    "#df.to_csv(r'/Users/shaneburke/Desktop/Billboard_Scrape.csv', index=False)"
   ]
  },
  {
   "cell_type": "code",
   "execution_count": 43,
   "metadata": {},
   "outputs": [
    {
     "data": {
      "text/html": [
       "<div>\n",
       "<style scoped>\n",
       "    .dataframe tbody tr th:only-of-type {\n",
       "        vertical-align: middle;\n",
       "    }\n",
       "\n",
       "    .dataframe tbody tr th {\n",
       "        vertical-align: top;\n",
       "    }\n",
       "\n",
       "    .dataframe thead th {\n",
       "        text-align: right;\n",
       "    }\n",
       "</style>\n",
       "<table border=\"1\" class=\"dataframe\">\n",
       "  <thead>\n",
       "    <tr style=\"text-align: right;\">\n",
       "      <th></th>\n",
       "      <th>year</th>\n",
       "      <th>rank</th>\n",
       "      <th>title</th>\n",
       "      <th>artist</th>\n",
       "      <th>featured_artist</th>\n",
       "      <th>area_name</th>\n",
       "      <th>area_type</th>\n",
       "      <th>begin_area_name</th>\n",
       "      <th>begin_area_type</th>\n",
       "      <th>country</th>\n",
       "      <th>genre1</th>\n",
       "      <th>genre2</th>\n",
       "      <th>genre3</th>\n",
       "    </tr>\n",
       "  </thead>\n",
       "  <tbody>\n",
       "    <tr>\n",
       "      <th>0</th>\n",
       "      <td>2006</td>\n",
       "      <td>1</td>\n",
       "      <td>Bad Day</td>\n",
       "      <td>Daniel Powter</td>\n",
       "      <td>NaN</td>\n",
       "      <td>Canada</td>\n",
       "      <td>Country</td>\n",
       "      <td>Vernon</td>\n",
       "      <td>City</td>\n",
       "      <td>CA</td>\n",
       "      <td>pop</td>\n",
       "      <td>soul</td>\n",
       "      <td>NaN</td>\n",
       "    </tr>\n",
       "    <tr>\n",
       "      <th>1</th>\n",
       "      <td>2006</td>\n",
       "      <td>2</td>\n",
       "      <td>Temperature</td>\n",
       "      <td>Sean Paul</td>\n",
       "      <td>NaN</td>\n",
       "      <td>Jamaica</td>\n",
       "      <td>Country</td>\n",
       "      <td>Kingston</td>\n",
       "      <td>Subdivision</td>\n",
       "      <td>JM</td>\n",
       "      <td>dancehall</td>\n",
       "      <td>pop</td>\n",
       "      <td>dance-pop</td>\n",
       "    </tr>\n",
       "    <tr>\n",
       "      <th>2</th>\n",
       "      <td>2006</td>\n",
       "      <td>3</td>\n",
       "      <td>Promiscuous</td>\n",
       "      <td>Nelly Furtado</td>\n",
       "      <td>Timbaland</td>\n",
       "      <td>Canada</td>\n",
       "      <td>Country</td>\n",
       "      <td>Victoria</td>\n",
       "      <td>City</td>\n",
       "      <td>CA</td>\n",
       "      <td>pop</td>\n",
       "      <td>hip hop rnb and dance hall</td>\n",
       "      <td>euro/dance-pop</td>\n",
       "    </tr>\n",
       "    <tr>\n",
       "      <th>3</th>\n",
       "      <td>2006</td>\n",
       "      <td>4</td>\n",
       "      <td>You're Beautiful</td>\n",
       "      <td>James Blunt</td>\n",
       "      <td>NaN</td>\n",
       "      <td>United Kingdom</td>\n",
       "      <td>Country</td>\n",
       "      <td>Tidworth</td>\n",
       "      <td>City</td>\n",
       "      <td>GB</td>\n",
       "      <td>pop rock</td>\n",
       "      <td>soft rock</td>\n",
       "      <td>rock</td>\n",
       "    </tr>\n",
       "    <tr>\n",
       "      <th>4</th>\n",
       "      <td>2006</td>\n",
       "      <td>5</td>\n",
       "      <td>Hips Don't Lie</td>\n",
       "      <td>Shakira</td>\n",
       "      <td>Wyclef Jean</td>\n",
       "      <td>Colombia</td>\n",
       "      <td>Country</td>\n",
       "      <td>Barranquilla</td>\n",
       "      <td>City</td>\n",
       "      <td>CO</td>\n",
       "      <td>pop</td>\n",
       "      <td>latin pop</td>\n",
       "      <td>latin</td>\n",
       "    </tr>\n",
       "    <tr>\n",
       "      <th>...</th>\n",
       "      <td>...</td>\n",
       "      <td>...</td>\n",
       "      <td>...</td>\n",
       "      <td>...</td>\n",
       "      <td>...</td>\n",
       "      <td>...</td>\n",
       "      <td>...</td>\n",
       "      <td>...</td>\n",
       "      <td>...</td>\n",
       "      <td>...</td>\n",
       "      <td>...</td>\n",
       "      <td>...</td>\n",
       "      <td>...</td>\n",
       "    </tr>\n",
       "    <tr>\n",
       "      <th>1393</th>\n",
       "      <td>2019</td>\n",
       "      <td>96</td>\n",
       "      <td>Eyes On You</td>\n",
       "      <td>Chase Rice</td>\n",
       "      <td>NaN</td>\n",
       "      <td>United States</td>\n",
       "      <td>Country</td>\n",
       "      <td>NaN</td>\n",
       "      <td>NaN</td>\n",
       "      <td>US</td>\n",
       "      <td>country</td>\n",
       "      <td>NaN</td>\n",
       "      <td>NaN</td>\n",
       "    </tr>\n",
       "    <tr>\n",
       "      <th>1394</th>\n",
       "      <td>2019</td>\n",
       "      <td>97</td>\n",
       "      <td>All To Myself</td>\n",
       "      <td>Dan + Shay</td>\n",
       "      <td>NaN</td>\n",
       "      <td>United States</td>\n",
       "      <td>Country</td>\n",
       "      <td>Nashville</td>\n",
       "      <td>City</td>\n",
       "      <td>US</td>\n",
       "      <td>country pop</td>\n",
       "      <td>country</td>\n",
       "      <td>NaN</td>\n",
       "    </tr>\n",
       "    <tr>\n",
       "      <th>1395</th>\n",
       "      <td>2019</td>\n",
       "      <td>98</td>\n",
       "      <td>Boyfriend</td>\n",
       "      <td>Ariana Grande</td>\n",
       "      <td>Social House</td>\n",
       "      <td>United States</td>\n",
       "      <td>Country</td>\n",
       "      <td>Boca Raton</td>\n",
       "      <td>City</td>\n",
       "      <td>US</td>\n",
       "      <td>pop</td>\n",
       "      <td>english</td>\n",
       "      <td>NaN</td>\n",
       "    </tr>\n",
       "    <tr>\n",
       "      <th>1396</th>\n",
       "      <td>2019</td>\n",
       "      <td>99</td>\n",
       "      <td>Walk Me Home</td>\n",
       "      <td>P!nk</td>\n",
       "      <td>NaN</td>\n",
       "      <td>United States</td>\n",
       "      <td>Country</td>\n",
       "      <td>Doylestown</td>\n",
       "      <td>City</td>\n",
       "      <td>US</td>\n",
       "      <td>pop</td>\n",
       "      <td>pop rock</td>\n",
       "      <td>contemporary r&amp;b</td>\n",
       "    </tr>\n",
       "    <tr>\n",
       "      <th>1397</th>\n",
       "      <td>2019</td>\n",
       "      <td>100</td>\n",
       "      <td>Robbery</td>\n",
       "      <td>Juice WRLD</td>\n",
       "      <td>NaN</td>\n",
       "      <td>United States</td>\n",
       "      <td>Country</td>\n",
       "      <td>Chicago</td>\n",
       "      <td>City</td>\n",
       "      <td>US</td>\n",
       "      <td>NaN</td>\n",
       "      <td>NaN</td>\n",
       "      <td>NaN</td>\n",
       "    </tr>\n",
       "  </tbody>\n",
       "</table>\n",
       "<p>1398 rows × 13 columns</p>\n",
       "</div>"
      ],
      "text/plain": [
       "      year  rank             title         artist featured_artist  \\\n",
       "0     2006     1           Bad Day  Daniel Powter             NaN   \n",
       "1     2006     2       Temperature      Sean Paul             NaN   \n",
       "2     2006     3       Promiscuous  Nelly Furtado       Timbaland   \n",
       "3     2006     4  You're Beautiful    James Blunt             NaN   \n",
       "4     2006     5    Hips Don't Lie        Shakira     Wyclef Jean   \n",
       "...    ...   ...               ...            ...             ...   \n",
       "1393  2019    96       Eyes On You     Chase Rice             NaN   \n",
       "1394  2019    97     All To Myself     Dan + Shay             NaN   \n",
       "1395  2019    98         Boyfriend  Ariana Grande    Social House   \n",
       "1396  2019    99      Walk Me Home           P!nk             NaN   \n",
       "1397  2019   100           Robbery     Juice WRLD             NaN   \n",
       "\n",
       "           area_name area_type begin_area_name begin_area_type country  \\\n",
       "0             Canada   Country          Vernon            City      CA   \n",
       "1            Jamaica   Country        Kingston     Subdivision      JM   \n",
       "2             Canada   Country        Victoria            City      CA   \n",
       "3     United Kingdom   Country        Tidworth            City      GB   \n",
       "4           Colombia   Country    Barranquilla            City      CO   \n",
       "...              ...       ...             ...             ...     ...   \n",
       "1393   United States   Country             NaN             NaN      US   \n",
       "1394   United States   Country       Nashville            City      US   \n",
       "1395   United States   Country      Boca Raton            City      US   \n",
       "1396   United States   Country      Doylestown            City      US   \n",
       "1397   United States   Country         Chicago            City      US   \n",
       "\n",
       "           genre1                      genre2            genre3  \n",
       "0             pop                        soul               NaN  \n",
       "1       dancehall                         pop         dance-pop  \n",
       "2             pop  hip hop rnb and dance hall    euro/dance-pop  \n",
       "3        pop rock                   soft rock              rock  \n",
       "4             pop                   latin pop             latin  \n",
       "...           ...                         ...               ...  \n",
       "1393      country                         NaN               NaN  \n",
       "1394  country pop                     country               NaN  \n",
       "1395          pop                     english               NaN  \n",
       "1396          pop                    pop rock  contemporary r&b  \n",
       "1397          NaN                         NaN               NaN  \n",
       "\n",
       "[1398 rows x 13 columns]"
      ]
     },
     "execution_count": 43,
     "metadata": {},
     "output_type": "execute_result"
    }
   ],
   "source": [
    "#df_billboard.head()"
   ]
  },
  {
   "cell_type": "markdown",
   "metadata": {},
   "source": [
    "***********************\n",
    "# <i>Part 3:</i> Scraping Google's Knowledge Graph for more accurate birthplaces, age, and descriptions\n",
    "While Musicbrainz has a lot of information and might serve us better for aritsts who were born in one place but moved and rose out of another scene, it is imperfect. The values are all at different levels -- for instance, sometimes there will be cities, states, and countries in the same column. \n",
    "\n",
    "Google's artist bio information is a little more robust and accurate for most artists. They have an API for the knowledge graph, but it does not provide the full information we need, so I used Selenium to automatically load each artist's page and scrape Google with a big delay, to avoid being blocked.\n",
    "\n",
    "We are going to continue using the Genres from musicbrainz, as those are more accurate than the birthdates and not availble on Google's graph."
   ]
  },
  {
   "cell_type": "markdown",
   "metadata": {},
   "source": [
    "### Steps:\n",
    "* Importing selenium\n",
    "* Gathering unique artist names based on value counts -- it ends up being a bit over 500 artists.\n",
    "* Loading each artist's search result page and scraping it based on the xpath, skipping those that don't fit. Xpath is the easiest way in this HTML to do it.\n",
    "    * The structure isn't the same for all artists, so a little cleaning is required after.\n",
    "    * Bands also sometimes have members within xpath where artists would be.\n",
    "    * We are going to skip the ones who don't fit for now and clean up our CSV.\n",
    "* Creating a new dataframe with just artists. We'll merge this to the original later."
   ]
  },
  {
   "cell_type": "code",
   "execution_count": 15,
   "metadata": {},
   "outputs": [],
   "source": [
    "from selenium import webdriver\n",
    "from selenium.webdriver.common.keys import Keys\n",
    "from selenium.webdriver.support.ui import Select\n",
    "from selenium.webdriver.support.ui import WebDriverWait"
   ]
  },
  {
   "cell_type": "code",
   "execution_count": null,
   "metadata": {},
   "outputs": [],
   "source": [
    "artists = df.artist.value_counts().index"
   ]
  },
  {
   "cell_type": "code",
   "execution_count": null,
   "metadata": {},
   "outputs": [],
   "source": [
    "driver = webdriver.Chrome()"
   ]
  },
  {
   "cell_type": "code",
   "execution_count": null,
   "metadata": {},
   "outputs": [],
   "source": [
    "artist_data = []\n",
    "\n",
    "for artist in artists:\n",
    "    time.sleep(11.36)\n",
    "    url = f'http://www.google.com/search?q={artist}'\n",
    "    driver.get(url)\n",
    "    try:\n",
    "        origin = driver.find_element_by_xpath(\"/html/body/div[8]/div[2]/div[10]/div[1]/div[3]/div[1]/div/div[1]/div[2]/div/div/div[2]/div/div/div/div[2]/div/div/div/span[2]/a\").text.strip()\n",
    "        solo_or_group = \"solo\"\n",
    "        born = driver.find_element_by_xpath(\"/html/body/div[8]/div[2]/div[10]/div[1]/div[3]/div/div/div[1]/div[2]/div/div/div[2]/div/div/div/div[2]/div/div/div/span[2]\").text.strip()\n",
    "        description = driver.find_element_by_xpath(\"/html/body/div[8]/div[2]/div[10]/div[1]/div[3]/div/div/div[1]/div[2]/div/div/div[2]/div/div/div/div[1]/div/div/div/div/span[1]\").text.strip()\n",
    "\n",
    "\n",
    "        \n",
    "    except:\n",
    "        origin = \"n/a\"\n",
    "        born = \"n/a\"\n",
    "        description = \"n/a\"\n",
    "\n",
    "    \n",
    "    print(artist, \"...\", origin)\n",
    "    print(description)\n",
    "    \n",
    "    artist_data.append({'artist' : artist,\n",
    "                        'origin' : origin,\n",
    "                        'born' : born,\n",
    "                        'description' : description\n",
    "                        })\n",
    "\n",
    "driver.close()"
   ]
  },
  {
   "cell_type": "code",
   "execution_count": null,
   "metadata": {},
   "outputs": [],
   "source": [
    "#print(artist_data.head(10))"
   ]
  },
  {
   "cell_type": "code",
   "execution_count": null,
   "metadata": {},
   "outputs": [],
   "source": [
    "df = pd.DataFrame(artist_data)"
   ]
  },
  {
   "cell_type": "code",
   "execution_count": 19,
   "metadata": {},
   "outputs": [],
   "source": [
    "#Save the artist information to a CSV and update some empty but important values.\n",
    "\n",
    "#df.to_csv(\"artist_google_scrape.csv\", index=False)"
   ]
  },
  {
   "cell_type": "code",
   "execution_count": null,
   "metadata": {},
   "outputs": [],
   "source": [
    "#Then I opened this CSV to fix values. "
   ]
  },
  {
   "cell_type": "code",
   "execution_count": 35,
   "metadata": {},
   "outputs": [],
   "source": [
    "#df_artists = pd.read_csv(\"artist_google_scrape_update.csv\")"
   ]
  },
  {
   "cell_type": "code",
   "execution_count": 45,
   "metadata": {},
   "outputs": [
    {
     "data": {
      "text/html": [
       "<div>\n",
       "<style scoped>\n",
       "    .dataframe tbody tr th:only-of-type {\n",
       "        vertical-align: middle;\n",
       "    }\n",
       "\n",
       "    .dataframe tbody tr th {\n",
       "        vertical-align: top;\n",
       "    }\n",
       "\n",
       "    .dataframe thead th {\n",
       "        text-align: right;\n",
       "    }\n",
       "</style>\n",
       "<table border=\"1\" class=\"dataframe\">\n",
       "  <thead>\n",
       "    <tr style=\"text-align: right;\">\n",
       "      <th></th>\n",
       "      <th>artist</th>\n",
       "      <th>origin</th>\n",
       "      <th>born</th>\n",
       "      <th>description</th>\n",
       "    </tr>\n",
       "  </thead>\n",
       "  <tbody>\n",
       "    <tr>\n",
       "      <th>0</th>\n",
       "      <td>Rihanna</td>\n",
       "      <td>Saint Michael, Barbados</td>\n",
       "      <td>February 20, 1988 (age 32 years), Saint Michae...</td>\n",
       "      <td>Robyn Rihanna Fenty is a Barbadian singer, act...</td>\n",
       "    </tr>\n",
       "    <tr>\n",
       "      <th>1</th>\n",
       "      <td>Drake</td>\n",
       "      <td>Toronto, Canada</td>\n",
       "      <td>October 24, 1986 (age 34 years), Toronto, Canada</td>\n",
       "      <td>Aubrey Drake Graham is a Canadian rapper, sing...</td>\n",
       "    </tr>\n",
       "    <tr>\n",
       "      <th>2</th>\n",
       "      <td>Taylor Swift</td>\n",
       "      <td>West Reading, PA</td>\n",
       "      <td>December 13, 1989 (age 30 years), West Reading...</td>\n",
       "      <td>Taylor Alison Swift is an American singer-song...</td>\n",
       "    </tr>\n",
       "    <tr>\n",
       "      <th>3</th>\n",
       "      <td>Maroon 5</td>\n",
       "      <td>Los Angeles, CA</td>\n",
       "      <td>Los Angeles, CA (2001)</td>\n",
       "      <td>Maroon 5 is an American pop rock band from Los...</td>\n",
       "    </tr>\n",
       "    <tr>\n",
       "      <th>4</th>\n",
       "      <td>Chris Brown</td>\n",
       "      <td>Tappahannock, VA</td>\n",
       "      <td>May 5, 1989 (age 31 years), Tappahannock, VA</td>\n",
       "      <td>Christopher Maurice Brown is an American singe...</td>\n",
       "    </tr>\n",
       "    <tr>\n",
       "      <th>...</th>\n",
       "      <td>...</td>\n",
       "      <td>...</td>\n",
       "      <td>...</td>\n",
       "      <td>...</td>\n",
       "    </tr>\n",
       "    <tr>\n",
       "      <th>503</th>\n",
       "      <td>Kygo x Selena Gomez</td>\n",
       "      <td>NaN</td>\n",
       "      <td>NaN</td>\n",
       "      <td>NaN</td>\n",
       "    </tr>\n",
       "    <tr>\n",
       "      <th>504</th>\n",
       "      <td>Edward Maya</td>\n",
       "      <td>Bucharest, Romania</td>\n",
       "      <td>June 29, 1986 (age 34 years), Bucharest, Romania</td>\n",
       "      <td>Eduard Marian Ilie, better known by his stage ...</td>\n",
       "    </tr>\n",
       "    <tr>\n",
       "      <th>505</th>\n",
       "      <td>YNW Melly</td>\n",
       "      <td>Gifford, FL</td>\n",
       "      <td>May 1, 1999 (age 21 years), Gifford, FL</td>\n",
       "      <td>Jamell Maurice Demons, known professionally as...</td>\n",
       "    </tr>\n",
       "    <tr>\n",
       "      <th>506</th>\n",
       "      <td>Bon Jovi</td>\n",
       "      <td>Sayreville, NJ</td>\n",
       "      <td>Sayreville, NJ (1983)</td>\n",
       "      <td>Bon Jovi is an American rock band formed in 19...</td>\n",
       "    </tr>\n",
       "    <tr>\n",
       "      <th>507</th>\n",
       "      <td>Paula DeAnda</td>\n",
       "      <td>San Angelo, TX</td>\n",
       "      <td>November 3, 1989 (age 31 years), San Angelo, TX</td>\n",
       "      <td>Paula Dacia DeAnda is an American singer and s...</td>\n",
       "    </tr>\n",
       "  </tbody>\n",
       "</table>\n",
       "<p>508 rows × 4 columns</p>\n",
       "</div>"
      ],
      "text/plain": [
       "                  artist                   origin  \\\n",
       "0                Rihanna  Saint Michael, Barbados   \n",
       "1                  Drake          Toronto, Canada   \n",
       "2           Taylor Swift         West Reading, PA   \n",
       "3               Maroon 5          Los Angeles, CA   \n",
       "4            Chris Brown         Tappahannock, VA   \n",
       "..                   ...                      ...   \n",
       "503  Kygo x Selena Gomez                      NaN   \n",
       "504          Edward Maya       Bucharest, Romania   \n",
       "505            YNW Melly              Gifford, FL   \n",
       "506             Bon Jovi           Sayreville, NJ   \n",
       "507         Paula DeAnda           San Angelo, TX   \n",
       "\n",
       "                                                  born  \\\n",
       "0    February 20, 1988 (age 32 years), Saint Michae...   \n",
       "1     October 24, 1986 (age 34 years), Toronto, Canada   \n",
       "2    December 13, 1989 (age 30 years), West Reading...   \n",
       "3                               Los Angeles, CA (2001)   \n",
       "4         May 5, 1989 (age 31 years), Tappahannock, VA   \n",
       "..                                                 ...   \n",
       "503                                                NaN   \n",
       "504   June 29, 1986 (age 34 years), Bucharest, Romania   \n",
       "505            May 1, 1999 (age 21 years), Gifford, FL   \n",
       "506                              Sayreville, NJ (1983)   \n",
       "507    November 3, 1989 (age 31 years), San Angelo, TX   \n",
       "\n",
       "                                           description  \n",
       "0    Robyn Rihanna Fenty is a Barbadian singer, act...  \n",
       "1    Aubrey Drake Graham is a Canadian rapper, sing...  \n",
       "2    Taylor Alison Swift is an American singer-song...  \n",
       "3    Maroon 5 is an American pop rock band from Los...  \n",
       "4    Christopher Maurice Brown is an American singe...  \n",
       "..                                                 ...  \n",
       "503                                                NaN  \n",
       "504  Eduard Marian Ilie, better known by his stage ...  \n",
       "505  Jamell Maurice Demons, known professionally as...  \n",
       "506  Bon Jovi is an American rock band formed in 19...  \n",
       "507  Paula Dacia DeAnda is an American singer and s...  \n",
       "\n",
       "[508 rows x 4 columns]"
      ]
     },
     "execution_count": 45,
     "metadata": {},
     "output_type": "execute_result"
    }
   ],
   "source": [
    "#df_artists.tail()"
   ]
  },
  {
   "cell_type": "markdown",
   "metadata": {},
   "source": [
    "*************\n",
    "\n",
    "# <i>Part 4:</i> Geocoding locations\n",
    "* We are going to use artists' birthplaces to map them. We have the location, but not geographical coordinates. We are going to use the GeoPy package to scrape these."
   ]
  },
  {
   "cell_type": "code",
   "execution_count": null,
   "metadata": {},
   "outputs": [],
   "source": [
    "#!pip install geopandas\n",
    "#!pip install geopy\n",
    "import geopandas\n",
    "import geopy\n",
    "from geopy.geocoders import Nominatim\n",
    "\n",
    "#Loading up our artist dataframe.\n",
    "df = pd.read_csv(\"/Users/shaneburke/Desktop/Data_and_Databases/Mapping Year-End Billboard Hot 100 Hits/artist_google_scrape_copy.csv\", encoding = \"ISO-8859-1\")\n",
    "df['latitude'] = \"-\"\n",
    "df['longitude'] = \"-\""
   ]
  },
  {
   "cell_type": "code",
   "execution_count": null,
   "metadata": {},
   "outputs": [],
   "source": [
    "#Searching for each \"origin\" location's coordinates and plugging latitude and longitude into their proper cells in the dataframe.\n",
    "\n",
    "artist_row = -1\n",
    "\n",
    "for origin in df['origin']:\n",
    "    artist_row = artist_row + 1\n",
    "    \n",
    "    try:\n",
    "        locator = Nominatim(user_agent=\"myGeocoder\")\n",
    "        location = locator.geocode(origin)\n",
    "\n",
    "        try:\n",
    "            df.iloc[artist_row, 4] = location.latitude\n",
    "            df.iloc[artist_row, 5] = location.longitude\n",
    "        except:\n",
    "            df.iloc[artist_row, 4] = \"-\"\n",
    "            df.iloc[artist_row, 5] = \"-\"\n",
    "            \n",
    "        #print(location.latitude, location.longitude)\n",
    "        \n",
    "    except: \n",
    "        pass"
   ]
  },
  {
   "cell_type": "code",
   "execution_count": 12,
   "metadata": {},
   "outputs": [],
   "source": [
    "#df[df.latitude == '-']\n",
    "#About 5 of over 500 artists were not covered by the geopy database. That's ok -- we can fill these in based on Google Maps coordinates either with pandas or in Excel."
   ]
  },
  {
   "cell_type": "code",
   "execution_count": 11,
   "metadata": {},
   "outputs": [
    {
     "ename": "NameError",
     "evalue": "name 'df' is not defined",
     "output_type": "error",
     "traceback": [
      "\u001b[0;31m---------------------------------------------------------------------------\u001b[0m",
      "\u001b[0;31mNameError\u001b[0m                                 Traceback (most recent call last)",
      "\u001b[0;32m<ipython-input-11-08c0f0420645>\u001b[0m in \u001b[0;36m<module>\u001b[0;34m\u001b[0m\n\u001b[1;32m      1\u001b[0m \u001b[0;31m#Quick visualization scatter map\u001b[0m\u001b[0;34m\u001b[0m\u001b[0;34m\u001b[0m\u001b[0;34m\u001b[0m\u001b[0m\n\u001b[1;32m      2\u001b[0m \u001b[0;34m\u001b[0m\u001b[0m\n\u001b[0;32m----> 3\u001b[0;31m df[df['latitude'] != \"-\"].plot(kind='scatter', \n\u001b[0m\u001b[1;32m      4\u001b[0m                  \u001b[0mx\u001b[0m \u001b[0;34m=\u001b[0m \u001b[0;34m'longitude'\u001b[0m\u001b[0;34m,\u001b[0m\u001b[0;34m\u001b[0m\u001b[0;34m\u001b[0m\u001b[0m\n\u001b[1;32m      5\u001b[0m                  \u001b[0my\u001b[0m\u001b[0;34m=\u001b[0m \u001b[0;34m'latitude'\u001b[0m\u001b[0;34m,\u001b[0m\u001b[0;34m\u001b[0m\u001b[0;34m\u001b[0m\u001b[0m\n",
      "\u001b[0;31mNameError\u001b[0m: name 'df' is not defined"
     ]
    }
   ],
   "source": [
    "#Quick visualization scatter map\n",
    "\n",
    "df[df['latitude'] != \"-\"].plot(kind='scatter', \n",
    "                 x = 'longitude',\n",
    "                 y= 'latitude',\n",
    "                figsize = [20, 10])"
   ]
  },
  {
   "cell_type": "markdown",
   "metadata": {},
   "source": [
    "*********************************\n",
    "# <i>Part 5:</i> Merging the Billboard/Musicbrainz Dataframe and the Cleaned Google Dataframe"
   ]
  },
  {
   "cell_type": "code",
   "execution_count": 46,
   "metadata": {},
   "outputs": [],
   "source": [
    "df_merged = df_billboard.merge(df_artists, left_on = \"artist\", right_on = \"artist\")"
   ]
  },
  {
   "cell_type": "code",
   "execution_count": 222,
   "metadata": {},
   "outputs": [
    {
     "data": {
      "text/html": [
       "<div>\n",
       "<style scoped>\n",
       "    .dataframe tbody tr th:only-of-type {\n",
       "        vertical-align: middle;\n",
       "    }\n",
       "\n",
       "    .dataframe tbody tr th {\n",
       "        vertical-align: top;\n",
       "    }\n",
       "\n",
       "    .dataframe thead th {\n",
       "        text-align: right;\n",
       "    }\n",
       "</style>\n",
       "<table border=\"1\" class=\"dataframe\">\n",
       "  <thead>\n",
       "    <tr style=\"text-align: right;\">\n",
       "      <th></th>\n",
       "      <th>year</th>\n",
       "      <th>rank</th>\n",
       "      <th>title</th>\n",
       "      <th>artist</th>\n",
       "      <th>featured_artist</th>\n",
       "      <th>area_name</th>\n",
       "      <th>area_type</th>\n",
       "      <th>begin_area_name</th>\n",
       "      <th>begin_area_type</th>\n",
       "      <th>country</th>\n",
       "      <th>genre1</th>\n",
       "      <th>genre2</th>\n",
       "      <th>genre3</th>\n",
       "      <th>origin</th>\n",
       "      <th>born</th>\n",
       "      <th>description</th>\n",
       "    </tr>\n",
       "  </thead>\n",
       "  <tbody>\n",
       "    <tr>\n",
       "      <th>0</th>\n",
       "      <td>2006</td>\n",
       "      <td>1</td>\n",
       "      <td>Bad Day</td>\n",
       "      <td>Daniel Powter</td>\n",
       "      <td>NaN</td>\n",
       "      <td>Canada</td>\n",
       "      <td>Country</td>\n",
       "      <td>Vernon</td>\n",
       "      <td>City</td>\n",
       "      <td>CA</td>\n",
       "      <td>pop</td>\n",
       "      <td>soul</td>\n",
       "      <td>NaN</td>\n",
       "      <td>Vernon, Canada</td>\n",
       "      <td>February 25, 1971 (age 49 years), Vernon, Canada</td>\n",
       "      <td>Daniel Richard Powter is a Canadian musician. ...</td>\n",
       "    </tr>\n",
       "    <tr>\n",
       "      <th>1</th>\n",
       "      <td>2006</td>\n",
       "      <td>2</td>\n",
       "      <td>Temperature</td>\n",
       "      <td>Sean Paul</td>\n",
       "      <td>NaN</td>\n",
       "      <td>Jamaica</td>\n",
       "      <td>Country</td>\n",
       "      <td>Kingston</td>\n",
       "      <td>Subdivision</td>\n",
       "      <td>JM</td>\n",
       "      <td>dancehall</td>\n",
       "      <td>pop</td>\n",
       "      <td>dance-pop</td>\n",
       "      <td>Kingston, Jamaica</td>\n",
       "      <td>January 9, 1973 (age 47 years), Kingston, Jamaica</td>\n",
       "      <td>Sean Paul Ryan Francis Henriques, OD is a Jama...</td>\n",
       "    </tr>\n",
       "    <tr>\n",
       "      <th>2</th>\n",
       "      <td>2006</td>\n",
       "      <td>37</td>\n",
       "      <td>(When You Gonna) Give It Up To Me</td>\n",
       "      <td>Sean Paul</td>\n",
       "      <td>Keyshia Cole</td>\n",
       "      <td>Jamaica</td>\n",
       "      <td>Country</td>\n",
       "      <td>Kingston</td>\n",
       "      <td>Subdivision</td>\n",
       "      <td>JM</td>\n",
       "      <td>dancehall</td>\n",
       "      <td>pop</td>\n",
       "      <td>dance-pop</td>\n",
       "      <td>Kingston, Jamaica</td>\n",
       "      <td>January 9, 1973 (age 47 years), Kingston, Jamaica</td>\n",
       "      <td>Sean Paul Ryan Francis Henriques, OD is a Jama...</td>\n",
       "    </tr>\n",
       "    <tr>\n",
       "      <th>3</th>\n",
       "      <td>2006</td>\n",
       "      <td>81</td>\n",
       "      <td>We Be Burnin'</td>\n",
       "      <td>Sean Paul</td>\n",
       "      <td>NaN</td>\n",
       "      <td>Jamaica</td>\n",
       "      <td>Country</td>\n",
       "      <td>Kingston</td>\n",
       "      <td>Subdivision</td>\n",
       "      <td>JM</td>\n",
       "      <td>dancehall</td>\n",
       "      <td>pop</td>\n",
       "      <td>dance-pop</td>\n",
       "      <td>Kingston, Jamaica</td>\n",
       "      <td>January 9, 1973 (age 47 years), Kingston, Jamaica</td>\n",
       "      <td>Sean Paul Ryan Francis Henriques, OD is a Jama...</td>\n",
       "    </tr>\n",
       "    <tr>\n",
       "      <th>4</th>\n",
       "      <td>2006</td>\n",
       "      <td>3</td>\n",
       "      <td>Promiscuous</td>\n",
       "      <td>Nelly Furtado</td>\n",
       "      <td>Timbaland</td>\n",
       "      <td>Canada</td>\n",
       "      <td>Country</td>\n",
       "      <td>Victoria</td>\n",
       "      <td>City</td>\n",
       "      <td>CA</td>\n",
       "      <td>pop</td>\n",
       "      <td>hip hop rnb and dance hall</td>\n",
       "      <td>euro/dance-pop</td>\n",
       "      <td>Victoria, Canada</td>\n",
       "      <td>December 2, 1978 (age 42 years), Victoria, Canada</td>\n",
       "      <td>Nelly Kim Furtado ComIH is a Portuguese-Canadi...</td>\n",
       "    </tr>\n",
       "  </tbody>\n",
       "</table>\n",
       "</div>"
      ],
      "text/plain": [
       "   year  rank                              title         artist  \\\n",
       "0  2006     1                            Bad Day  Daniel Powter   \n",
       "1  2006     2                        Temperature      Sean Paul   \n",
       "2  2006    37  (When You Gonna) Give It Up To Me      Sean Paul   \n",
       "3  2006    81                      We Be Burnin'      Sean Paul   \n",
       "4  2006     3                        Promiscuous  Nelly Furtado   \n",
       "\n",
       "  featured_artist area_name area_type begin_area_name begin_area_type country  \\\n",
       "0             NaN    Canada   Country          Vernon            City      CA   \n",
       "1             NaN   Jamaica   Country        Kingston     Subdivision      JM   \n",
       "2    Keyshia Cole   Jamaica   Country        Kingston     Subdivision      JM   \n",
       "3             NaN   Jamaica   Country        Kingston     Subdivision      JM   \n",
       "4       Timbaland    Canada   Country        Victoria            City      CA   \n",
       "\n",
       "      genre1                      genre2          genre3             origin  \\\n",
       "0        pop                        soul             NaN     Vernon, Canada   \n",
       "1  dancehall                         pop       dance-pop  Kingston, Jamaica   \n",
       "2  dancehall                         pop       dance-pop  Kingston, Jamaica   \n",
       "3  dancehall                         pop       dance-pop  Kingston, Jamaica   \n",
       "4        pop  hip hop rnb and dance hall  euro/dance-pop   Victoria, Canada   \n",
       "\n",
       "                                                born  \\\n",
       "0   February 25, 1971 (age 49 years), Vernon, Canada   \n",
       "1  January 9, 1973 (age 47 years), Kingston, Jamaica   \n",
       "2  January 9, 1973 (age 47 years), Kingston, Jamaica   \n",
       "3  January 9, 1973 (age 47 years), Kingston, Jamaica   \n",
       "4  December 2, 1978 (age 42 years), Victoria, Canada   \n",
       "\n",
       "                                         description  \n",
       "0  Daniel Richard Powter is a Canadian musician. ...  \n",
       "1  Sean Paul Ryan Francis Henriques, OD is a Jama...  \n",
       "2  Sean Paul Ryan Francis Henriques, OD is a Jama...  \n",
       "3  Sean Paul Ryan Francis Henriques, OD is a Jama...  \n",
       "4  Nelly Kim Furtado ComIH is a Portuguese-Canadi...  "
      ]
     },
     "execution_count": 222,
     "metadata": {},
     "output_type": "execute_result"
    }
   ],
   "source": [
    "df_merged.head(5)"
   ]
  },
  {
   "cell_type": "code",
   "execution_count": 224,
   "metadata": {},
   "outputs": [],
   "source": [
    "#df_merged.to_csv(\"merged_billboard_scrape.csv\", index=False)"
   ]
  },
  {
   "cell_type": "markdown",
   "metadata": {},
   "source": [
    "****************\n",
    "\n",
    "### <i>Quick detour</i>: \n",
    "Some quick aggregate functions to understand the data"
   ]
  },
  {
   "cell_type": "code",
   "execution_count": 50,
   "metadata": {},
   "outputs": [
    {
     "data": {
      "text/plain": [
       "Rihanna              30\n",
       "Drake                28\n",
       "Taylor Swift         25\n",
       "Maroon 5             20\n",
       "Chris Brown          19\n",
       "                     ..\n",
       "Plain White T's       1\n",
       "Shelley FKA DRAM      1\n",
       "Webbie                1\n",
       "Kristinia DeBarge     1\n",
       "Bebe Rexha            1\n",
       "Name: artist, Length: 508, dtype: int64"
      ]
     },
     "execution_count": 50,
     "metadata": {},
     "output_type": "execute_result"
    }
   ],
   "source": [
    "#Artists with most charting songs as lead\n",
    "df_merged.artist.value_counts()"
   ]
  },
  {
   "cell_type": "code",
   "execution_count": 219,
   "metadata": {},
   "outputs": [
    {
     "data": {
      "text/html": [
       "<div>\n",
       "<style scoped>\n",
       "    .dataframe tbody tr th:only-of-type {\n",
       "        vertical-align: middle;\n",
       "    }\n",
       "\n",
       "    .dataframe tbody tr th {\n",
       "        vertical-align: top;\n",
       "    }\n",
       "\n",
       "    .dataframe thead th {\n",
       "        text-align: right;\n",
       "    }\n",
       "</style>\n",
       "<table border=\"1\" class=\"dataframe\">\n",
       "  <thead>\n",
       "    <tr style=\"text-align: right;\">\n",
       "      <th></th>\n",
       "      <th>artist</th>\n",
       "      <th>origin</th>\n",
       "      <th>born</th>\n",
       "      <th>description</th>\n",
       "    </tr>\n",
       "  </thead>\n",
       "  <tbody>\n",
       "    <tr>\n",
       "      <th>3</th>\n",
       "      <td>Maroon 5</td>\n",
       "      <td>Los Angeles, CA</td>\n",
       "      <td>Los Angeles, CA (2001)</td>\n",
       "      <td>Maroon 5 is an American pop rock band from Los...</td>\n",
       "    </tr>\n",
       "    <tr>\n",
       "      <th>11</th>\n",
       "      <td>Imagine Dragons</td>\n",
       "      <td>Las Vegas, NV</td>\n",
       "      <td>Las Vegas, NV (2008)</td>\n",
       "      <td>Imagine Dragons is an American pop rock band f...</td>\n",
       "    </tr>\n",
       "    <tr>\n",
       "      <th>26</th>\n",
       "      <td>The Black Eyed Peas</td>\n",
       "      <td>Los Angeles, CA</td>\n",
       "      <td>Los Angeles, CA (1995)</td>\n",
       "      <td>Black Eyed Peas is an American musical group, ...</td>\n",
       "    </tr>\n",
       "    <tr>\n",
       "      <th>34</th>\n",
       "      <td>Nickelback</td>\n",
       "      <td>Hanna, Alberta, Canada</td>\n",
       "      <td>Hannah, Alberta, CA (1995)</td>\n",
       "      <td>Nickelback is a Canadian rock band formed in 1...</td>\n",
       "    </tr>\n",
       "    <tr>\n",
       "      <th>43</th>\n",
       "      <td>Fall Out Boy</td>\n",
       "      <td>Wilmette, IL</td>\n",
       "      <td>Wilmette, IL (2001)</td>\n",
       "      <td>Fall Out Boy is an American rock band formed i...</td>\n",
       "    </tr>\n",
       "  </tbody>\n",
       "</table>\n",
       "</div>"
      ],
      "text/plain": [
       "                 artist                  origin                        born  \\\n",
       "3              Maroon 5         Los Angeles, CA      Los Angeles, CA (2001)   \n",
       "11      Imagine Dragons           Las Vegas, NV        Las Vegas, NV (2008)   \n",
       "26  The Black Eyed Peas         Los Angeles, CA      Los Angeles, CA (1995)   \n",
       "34           Nickelback  Hanna, Alberta, Canada  Hannah, Alberta, CA (1995)   \n",
       "43         Fall Out Boy            Wilmette, IL         Wilmette, IL (2001)   \n",
       "\n",
       "                                          description  \n",
       "3   Maroon 5 is an American pop rock band from Los...  \n",
       "11  Imagine Dragons is an American pop rock band f...  \n",
       "26  Black Eyed Peas is an American musical group, ...  \n",
       "34  Nickelback is a Canadian rock band formed in 1...  \n",
       "43  Fall Out Boy is an American rock band formed i...  "
      ]
     },
     "execution_count": 219,
     "metadata": {},
     "output_type": "execute_result"
    }
   ],
   "source": [
    "#Group or solo: Bands do not display an \"age\" on Google, but artists do.\n",
    "df_bands = df_artists[(df_artists.born.str.contains(\"age \", na=False) == False)]\n",
    "df_bands.head(5)"
   ]
  },
  {
   "cell_type": "markdown",
   "metadata": {},
   "source": [
    "### Plotting Genre by Year"
   ]
  },
  {
   "cell_type": "code",
   "execution_count": 2,
   "metadata": {},
   "outputs": [
    {
     "ename": "NameError",
     "evalue": "name 'df_merged' is not defined",
     "output_type": "error",
     "traceback": [
      "\u001b[0;31m---------------------------------------------------------------------------\u001b[0m",
      "\u001b[0;31mNameError\u001b[0m                                 Traceback (most recent call last)",
      "\u001b[0;32m<ipython-input-2-01e61378e2f4>\u001b[0m in \u001b[0;36m<module>\u001b[0;34m\u001b[0m\n\u001b[0;32m----> 1\u001b[0;31m df_hip_hop_or_rap_songs = df_merged[(df_merged.genre1.str.contains(\"hop\", na=False))|\n\u001b[0m\u001b[1;32m      2\u001b[0m           \u001b[0;34m(\u001b[0m\u001b[0mdf_merged\u001b[0m\u001b[0;34m.\u001b[0m\u001b[0mgenre2\u001b[0m\u001b[0;34m.\u001b[0m\u001b[0mstr\u001b[0m\u001b[0;34m.\u001b[0m\u001b[0mcontains\u001b[0m\u001b[0;34m(\u001b[0m\u001b[0;34m\"hop\"\u001b[0m\u001b[0;34m,\u001b[0m \u001b[0mna\u001b[0m\u001b[0;34m=\u001b[0m\u001b[0;32mFalse\u001b[0m\u001b[0;34m)\u001b[0m\u001b[0;34m)\u001b[0m \u001b[0;34m|\u001b[0m\u001b[0;34m\u001b[0m\u001b[0;34m\u001b[0m\u001b[0m\n\u001b[1;32m      3\u001b[0m           \u001b[0;34m(\u001b[0m\u001b[0mdf_merged\u001b[0m\u001b[0;34m.\u001b[0m\u001b[0mgenre3\u001b[0m\u001b[0;34m.\u001b[0m\u001b[0mstr\u001b[0m\u001b[0;34m.\u001b[0m\u001b[0mcontains\u001b[0m\u001b[0;34m(\u001b[0m\u001b[0;34m\"hop\"\u001b[0m\u001b[0;34m,\u001b[0m \u001b[0mna\u001b[0m\u001b[0;34m=\u001b[0m\u001b[0;32mFalse\u001b[0m\u001b[0;34m)\u001b[0m\u001b[0;34m)\u001b[0m \u001b[0;34m|\u001b[0m\u001b[0;34m\u001b[0m\u001b[0;34m\u001b[0m\u001b[0m\n\u001b[1;32m      4\u001b[0m           \u001b[0;34m(\u001b[0m\u001b[0mdf_merged\u001b[0m\u001b[0;34m.\u001b[0m\u001b[0mgenre1\u001b[0m\u001b[0;34m.\u001b[0m\u001b[0mstr\u001b[0m\u001b[0;34m.\u001b[0m\u001b[0mcontains\u001b[0m\u001b[0;34m(\u001b[0m\u001b[0;34m\"rap\"\u001b[0m\u001b[0;34m,\u001b[0m \u001b[0mna\u001b[0m\u001b[0;34m=\u001b[0m\u001b[0;32mFalse\u001b[0m\u001b[0;34m)\u001b[0m\u001b[0;34m)\u001b[0m \u001b[0;34m|\u001b[0m\u001b[0;34m\u001b[0m\u001b[0;34m\u001b[0m\u001b[0m\n\u001b[1;32m      5\u001b[0m           \u001b[0;34m(\u001b[0m\u001b[0mdf_merged\u001b[0m\u001b[0;34m.\u001b[0m\u001b[0mgenre1\u001b[0m\u001b[0;34m.\u001b[0m\u001b[0mstr\u001b[0m\u001b[0;34m.\u001b[0m\u001b[0mcontains\u001b[0m\u001b[0;34m(\u001b[0m\u001b[0;34m\"rap\"\u001b[0m\u001b[0;34m,\u001b[0m \u001b[0mna\u001b[0m\u001b[0;34m=\u001b[0m\u001b[0;32mFalse\u001b[0m\u001b[0;34m)\u001b[0m\u001b[0;34m)\u001b[0m \u001b[0;34m|\u001b[0m\u001b[0;34m\u001b[0m\u001b[0;34m\u001b[0m\u001b[0m\n",
      "\u001b[0;31mNameError\u001b[0m: name 'df_merged' is not defined"
     ]
    }
   ],
   "source": [
    "df_hip_hop_or_rap_songs = df_merged[(df_merged.genre1.str.contains(\"hop\", na=False))|\n",
    "          (df_merged.genre2.str.contains(\"hop\", na=False)) | \n",
    "          (df_merged.genre3.str.contains(\"hop\", na=False)) | \n",
    "          (df_merged.genre1.str.contains(\"rap\", na=False)) |\n",
    "          (df_merged.genre1.str.contains(\"rap\", na=False)) | \n",
    "          (df_merged.genre1.str.contains(\"rap\", na=False))\n",
    "         ]\n",
    "\n",
    "df_rock_alt_songs = df_merged[(df_merged.genre1.str.contains(\"rock\", na=False))|\n",
    "          (df_merged.genre2.str.contains(\"rock\", na=False)) | \n",
    "          (df_merged.genre3.str.contains(\"rock\", na=False)) | \n",
    "          (df_merged.genre1.str.contains(\"alt\", na=False)) |\n",
    "          (df_merged.genre2.str.contains(\"alt\", na=False)) | \n",
    "          (df_merged.genre3.str.contains(\"alt\", na=False))\n",
    "         ]\n",
    "\n",
    "df_pop_songs = df_merged[(df_merged.genre1.str.contains(\"pop\", na=False))|\n",
    "          (df_merged.genre2.str.contains(\"pop\", na=False)) | \n",
    "          (df_merged.genre3.str.contains(\"pop\", na=False))\n",
    "         ]\n",
    "\n",
    "df_country_songs = df_merged[(df_merged.genre1.str.contains(\"country\", na=False))|\n",
    "          (df_merged.genre2.str.contains(\"country\", na=False)) | \n",
    "          (df_merged.genre3.str.contains(\"country\", na=False))\n",
    "         ]\n"
   ]
  },
  {
   "cell_type": "code",
   "execution_count": 6,
   "metadata": {},
   "outputs": [
    {
     "name": "stdout",
     "output_type": "stream",
     "text": [
      "Genres in Top 100 Year-End Songs by Year\n"
     ]
    },
    {
     "ename": "NameError",
     "evalue": "name 'df_hip_hop_or_rap_songs' is not defined",
     "output_type": "error",
     "traceback": [
      "\u001b[0;31m---------------------------------------------------------------------------\u001b[0m",
      "\u001b[0;31mNameError\u001b[0m                                 Traceback (most recent call last)",
      "\u001b[0;32m<ipython-input-6-5944d6fa0e24>\u001b[0m in \u001b[0;36m<module>\u001b[0;34m\u001b[0m\n\u001b[1;32m      1\u001b[0m \u001b[0mprint\u001b[0m\u001b[0;34m(\u001b[0m\u001b[0;34m\"Genres in Top 100 Year-End Songs by Year\"\u001b[0m\u001b[0;34m)\u001b[0m\u001b[0;34m\u001b[0m\u001b[0;34m\u001b[0m\u001b[0m\n\u001b[1;32m      2\u001b[0m \u001b[0;34m\u001b[0m\u001b[0m\n\u001b[0;32m----> 3\u001b[0;31m \u001b[0max\u001b[0m \u001b[0;34m=\u001b[0m \u001b[0mdf_hip_hop_or_rap_songs\u001b[0m\u001b[0;34m.\u001b[0m\u001b[0myear\u001b[0m\u001b[0;34m.\u001b[0m\u001b[0mvalue_counts\u001b[0m\u001b[0;34m(\u001b[0m\u001b[0msort\u001b[0m\u001b[0;34m=\u001b[0m\u001b[0;32mFalse\u001b[0m\u001b[0;34m)\u001b[0m\u001b[0;34m.\u001b[0m\u001b[0mplot\u001b[0m\u001b[0;34m(\u001b[0m\u001b[0mlabel\u001b[0m \u001b[0;34m=\u001b[0m \u001b[0;34m\"hiphop/rap\"\u001b[0m\u001b[0;34m)\u001b[0m\u001b[0;34m\u001b[0m\u001b[0;34m\u001b[0m\u001b[0m\n\u001b[0m\u001b[1;32m      4\u001b[0m \u001b[0mdf_rock_alt_songs\u001b[0m\u001b[0;34m.\u001b[0m\u001b[0myear\u001b[0m\u001b[0;34m.\u001b[0m\u001b[0mvalue_counts\u001b[0m\u001b[0;34m(\u001b[0m\u001b[0msort\u001b[0m \u001b[0;34m=\u001b[0m \u001b[0;32mFalse\u001b[0m\u001b[0;34m)\u001b[0m\u001b[0;34m.\u001b[0m\u001b[0mplot\u001b[0m\u001b[0;34m(\u001b[0m\u001b[0mlabel\u001b[0m \u001b[0;34m=\u001b[0m \u001b[0;34m\"rock/alt\"\u001b[0m\u001b[0;34m,\u001b[0m \u001b[0max\u001b[0m\u001b[0;34m=\u001b[0m\u001b[0max\u001b[0m\u001b[0;34m)\u001b[0m\u001b[0;34m\u001b[0m\u001b[0;34m\u001b[0m\u001b[0m\n\u001b[1;32m      5\u001b[0m \u001b[0mdf_country_songs\u001b[0m\u001b[0;34m.\u001b[0m\u001b[0myear\u001b[0m\u001b[0;34m.\u001b[0m\u001b[0mvalue_counts\u001b[0m\u001b[0;34m(\u001b[0m\u001b[0msort\u001b[0m \u001b[0;34m=\u001b[0m \u001b[0;32mFalse\u001b[0m\u001b[0;34m)\u001b[0m\u001b[0;34m.\u001b[0m\u001b[0mplot\u001b[0m\u001b[0;34m(\u001b[0m\u001b[0mlabel\u001b[0m \u001b[0;34m=\u001b[0m \u001b[0;34m\"country\"\u001b[0m\u001b[0;34m,\u001b[0m \u001b[0max\u001b[0m\u001b[0;34m=\u001b[0m\u001b[0max\u001b[0m\u001b[0;34m)\u001b[0m\u001b[0;34m\u001b[0m\u001b[0;34m\u001b[0m\u001b[0m\n",
      "\u001b[0;31mNameError\u001b[0m: name 'df_hip_hop_or_rap_songs' is not defined"
     ]
    }
   ],
   "source": [
    "print(\"Genres in Top 100 Year-End Songs by Year\")\n",
    "\n",
    "ax = df_hip_hop_or_rap_songs.year.value_counts(sort=False).plot(label = \"hiphop/rap\")\n",
    "df_rock_alt_songs.year.value_counts(sort = False).plot(label = \"rock/alt\", ax=ax)\n",
    "df_country_songs.year.value_counts(sort = False).plot(label = \"country\", ax=ax)\n",
    "df_pop_songs.year.value_counts(sort = False).plot(label = \"pop\", ax=ax)\n",
    "\n",
    "ax.legend(loc='upper right')\n",
    "\n",
    "#From this, we can see a steep decrease in pop artists' charting in recent years, as well as a slight increase in country and rap. "
   ]
  },
  {
   "cell_type": "markdown",
   "metadata": {},
   "source": [
    "**************\n",
    "# <i> Part 6: </i> Preparing dataframe for geoJSON treatment\n",
    "* To fit JSON format, we are going to eventually need a dataframe that only contains certain geometry and article variables. We are going to add these all to the merged dataframe and then duplicate what we need into a new JSON-friendly frame."
   ]
  },
  {
   "cell_type": "code",
   "execution_count": null,
   "metadata": {},
   "outputs": [],
   "source": [
    "#Adding in JSON columns. Some are placeholders for now, but we'll add them in soon.\n",
    "\n",
    "#Type and ID\n",
    "df_merged['type'] = \"Feature\"\n",
    "\n",
    "df_merged = df_merged.reset_index()\n",
    "df_merged['id'] = df_merged['index'] + 1\n",
    "\n",
    "#Geometry Features\n",
    "df_merged['geometry.type'] = \"Point\"\n",
    "df_merged['geometry.coordinates'] == \"-\"\n",
    "\n",
    "#Properties\n",
    "df_merged['properties.headline'] = \"<b>“\" + df_merged['title'] + \"”</b> by \" + df_merged['artist'] + \", \" + df_merged['year'].apply(lambda x: str(x))\n",
    "df_merged['properties.article'] = \"<b>“\" + df_merged['title'] + \"”</b> by \" + df_merged['artist'] + \", \" + df_merged['year'].apply(lambda x: str(x)) + \"<br/><br/><b>Born</b>:\" + df_merged['born'] + \"<br/><br/>\" + df_merged['description']\n",
    "df_merged['properties.radius'] = \"7\"\n",
    "df_merged['properties.name'] = df_merged['title'] + \" by \" + df_merged['artist']\n",
    "df_merged['properties.color'] = \"-\"\n",
    "\n",
    "df_merged['properties.group_id'] = df_merged['year'] - 2006\n",
    "df_merged['properties.group_name'] = df_merged['year']"
   ]
  },
  {
   "cell_type": "code",
   "execution_count": null,
   "metadata": {},
   "outputs": [],
   "source": [
    "#To add in coordinates in list format, which JSON needs.\n",
    "def get_coords(row):\n",
    "    row['geometry.coordinates'] = [row['longitude'], row['latitude']]\n",
    "    return row\n",
    "\n",
    "df_merged = df_merged.apply(get_coords, axis=1)"
   ]
  },
  {
   "cell_type": "code",
   "execution_count": null,
   "metadata": {},
   "outputs": [],
   "source": [
    "#Points' colors are based on artist genre. We are going to run a function to simplify genre into 7 bins.\n",
    "#The genres detected are based on looking at popular value counts of the first genre tag.\n",
    "#A few of the newer artists have empty genres, but that can be cleaned up in Excel.\n",
    "\n",
    "def genre_simplified(genre):\n",
    "    \n",
    "    if \"boy band\" in genre:\n",
    "        return \"pop\" \n",
    "    \n",
    "    if \"indie\" in genre:\n",
    "        return \"rock/alternative\"\n",
    "    \n",
    "    if \"pop\" in genre:\n",
    "        return \"pop\"\n",
    "    \n",
    "    if \"rock\" in genre:\n",
    "        return \"rock/alternative\"\n",
    "    \n",
    "    if \"punk\" in genre:\n",
    "        return \"rock/alternative\"\n",
    "    \n",
    "    if \"alt\" in genre:\n",
    "        return \"rock/alternative\"\n",
    "    \n",
    "    if \"new wave\" in genre:\n",
    "        return \"rock/alternative\"\n",
    "    \n",
    "    if \"latin\" in genre:\n",
    "        return \"latin/reggaeton\"\n",
    "\n",
    "    if \"reggaeton\" in genre:\n",
    "        return \"latin/reggaeton\"\n",
    "\n",
    "    if \"hop\" in genre:\n",
    "        return \"hip-hop/rap\"\n",
    "    \n",
    "    if \"rap\" in genre:\n",
    "        return \"hip-hop/rap\"\n",
    "    \n",
    "    if \"r&b\" in genre:\n",
    "        return \"r&b/soul\"\n",
    "    \n",
    "    if \"soul\" in genre:\n",
    "        return \"r&b/soul\"\n",
    "    \n",
    "    if \"country\" in genre:\n",
    "        return \"country\"\n",
    "    \n",
    "    else:\n",
    "        return \"other\"\n"
   ]
  },
  {
   "cell_type": "code",
   "execution_count": null,
   "metadata": {},
   "outputs": [],
   "source": [
    "df_merged['genre_simplified'] = df_merged['genre1'].fillna(value=\"-\").map(genre_simplified)"
   ]
  },
  {
   "cell_type": "code",
   "execution_count": null,
   "metadata": {},
   "outputs": [],
   "source": [
    "#Now we are assigning color based on genre. This is a highlighter color palette."
   ]
  },
  {
   "cell_type": "code",
   "execution_count": null,
   "metadata": {},
   "outputs": [],
   "source": [
    "def genre_color(genre):\n",
    "    \n",
    "    if genre == \"pop\":\n",
    "        return \"#ff66e1\"\n",
    "    \n",
    "    if genre == \"rock/alternative\":\n",
    "        return \"#ff8c2c\"\n",
    "    \n",
    "    if genre == \"hip-hop/rap\":\n",
    "        return \"#e8ff2c\"\n",
    "    \n",
    "    if genre == \"r&b/soul\":\n",
    "        return \"#C486FF\"\n",
    "    \n",
    "    if genre == \"latin/reggaeton\":\n",
    "        return \"#3dddff\"\n",
    "\n",
    "    if genre ==  \"country\":\n",
    "        return \"#47ff37\"\n",
    "    \n",
    "    if genre == \"other\":\n",
    "        return \"#A5A5A5\""
   ]
  },
  {
   "cell_type": "code",
   "execution_count": null,
   "metadata": {},
   "outputs": [],
   "source": [
    "df_merged['properties.color'] = df_merged['genre_simplified'].map(genre_color)\n"
   ]
  },
  {
   "cell_type": "code",
   "execution_count": null,
   "metadata": {},
   "outputs": [],
   "source": [
    "df_merged.origin.value_counts()\n"
   ]
  },
  {
   "cell_type": "code",
   "execution_count": null,
   "metadata": {},
   "outputs": [],
   "source": [
    "#Adding some noise to the latitude and longitude values around cities with a lot of people so they don't overlap.\n",
    "#Creating a scrap dataframe with artists from the most popular origins and randomizing their coordinates and join back.\n",
    "\n",
    "df_scrap = df[['artist', 'origin', 'longitude', 'latitude', 'geometry.coordinates']]\n",
    "df_scrap = df_scrap.drop_duplicates() "
   ]
  },
  {
   "cell_type": "code",
   "execution_count": null,
   "metadata": {},
   "outputs": [],
   "source": [
    "df_scrap = df_scrap[(df_scrap.origin == \"Los Angeles, CA\") |\n",
    "        (df_scrap.origin == \"Atlanta, GA\") |\n",
    "        (df_scrap.origin == \"Toronto, Canada\") |\n",
    "        (df_scrap.origin == \"London, United Kingdom\") |\n",
    "        (df_scrap.origin == \"Nashville, TN\") |\n",
    "        (df_scrap.origin == \"New York, NY\") |\n",
    "        (df_scrap.origin == \"Miami, FL\") |\n",
    "        (df_scrap.origin == \"Paris, France\") |\n",
    "        (df_scrap.origin == \"Las Vegas, NV\") |\n",
    "        (df_scrap.origin == \"Brooklyn, New York, NY\") |\n",
    "        (df_scrap.origin == \"Chicago, IL\") |\n",
    "        (df_scrap.origin == \"Manhattan, New York, NY\")]"
   ]
  },
  {
   "cell_type": "code",
   "execution_count": null,
   "metadata": {},
   "outputs": [],
   "source": [
    "#Functions to add a fractional amount of random noise to longitudes and latitudes so they won't overlap.\n",
    "\n",
    "from random import randint\n",
    "\n",
    "def add_noise_lat(row):\n",
    "    try:\n",
    "        random_num = randint(-3, 3) * .01\n",
    "        random_num = float(random_num)\n",
    "        row['latitude'] = float(row['latitude']) + random_num\n",
    "        return row\n",
    "    except:\n",
    "        pass\n",
    "    \n",
    "def add_noise_long(row):\n",
    "    try:\n",
    "        random_num = randint(-3, 3) * .01\n",
    "        random_num = float(random_num)\n",
    "        row['longitude'] = float(row['longitude']) + random_num\n",
    "        return row\n",
    "    \n",
    "    except:\n",
    "        pass"
   ]
  },
  {
   "cell_type": "code",
   "execution_count": null,
   "metadata": {},
   "outputs": [],
   "source": [
    "df_scrap = df_scrap.apply(add_noise_lat, axis=1)\n",
    "df_scrap = df_scrap.apply(add_noise_long, axis=1)"
   ]
  },
  {
   "cell_type": "code",
   "execution_count": null,
   "metadata": {},
   "outputs": [],
   "source": [
    "#Compiling the new coordinates with noise\n",
    "df_scrap = df_scrap.apply(get_coords, axis=1)"
   ]
  },
  {
   "cell_type": "code",
   "execution_count": null,
   "metadata": {},
   "outputs": [],
   "source": [
    "df_use = df_merged.merge(df_scrap, left_on = \"artist\", right_on = \"artist\", how=\"outer\", suffixes=(None, 'updated'))"
   ]
  },
  {
   "cell_type": "code",
   "execution_count": null,
   "metadata": {},
   "outputs": [],
   "source": [
    "#Combining the frames of old and new coordinates\n",
    "df_use['new_coords'] = df_use['geometry.coordinatesupdated'].combine_first(df_use['geometry.coordinates'])\n",
    "df_use['geometry.coordinates'] = df_use['new_coords']"
   ]
  },
  {
   "cell_type": "code",
   "execution_count": null,
   "metadata": {},
   "outputs": [],
   "source": [
    "df = df_use"
   ]
  },
  {
   "cell_type": "markdown",
   "metadata": {},
   "source": [
    "**************\n",
    "# <i> Part 7: </i> JSON time!"
   ]
  },
  {
   "cell_type": "code",
   "execution_count": null,
   "metadata": {},
   "outputs": [],
   "source": [
    "#Taking only the JSON variables we need from our mega dataframe.\n",
    "output = df_merged[['type', 'id', 'geometry.type', 'geometry.coordinates', 'properties.headline', 'properties.article', 'properties.radius', 'properties.name', 'properties.color', 'properties.group_id', 'properties.group_name']]\n",
    "output.head()"
   ]
  },
  {
   "cell_type": "code",
   "execution_count": null,
   "metadata": {},
   "outputs": [],
   "source": [
    "ok_json = json.loads(output.to_json(orient='records'))\n",
    "ok_json"
   ]
  },
  {
   "cell_type": "code",
   "execution_count": null,
   "metadata": {},
   "outputs": [],
   "source": [
    "def process_to_geojson(file):\n",
    "    geo_data = {\"type\": \"FeatureCollection\", \"features\":[]}\n",
    "    for row in file:\n",
    "        this_dict = {\"type\": \"Feature\", \"properties\":{}, \"geometry\": {}}\n",
    "        for key, value in row.items():\n",
    "            key_names = key.split('.')\n",
    "            if key_names[0] == 'geometry':\n",
    "                this_dict['geometry'][key_names[1]] = value\n",
    "            if str(key_names[0]) == 'properties':\n",
    "                this_dict['properties'][key_names[1]] = value\n",
    "        geo_data['features'].append(this_dict)\n",
    "    return geo_data"
   ]
  },
  {
   "cell_type": "code",
   "execution_count": null,
   "metadata": {},
   "outputs": [],
   "source": [
    "geo_format = process_to_geojson(ok_json)\n",
    "geo_format"
   ]
  },
  {
   "cell_type": "code",
   "execution_count": null,
   "metadata": {},
   "outputs": [],
   "source": [
    "#Variable name\n",
    "with open('geo-data.js', 'w') as outfile:\n",
    "    outfile.write(\"var infoData = \")\n",
    "#geojson output\n",
    "with open('geo-data.js', 'a') as outfile:\n",
    "    json.dump(geo_format, outfile)"
   ]
  },
  {
   "cell_type": "code",
   "execution_count": null,
   "metadata": {},
   "outputs": [],
   "source": [
    "#This links up with our HTML file to display in MapBox GL!"
   ]
  },
  {
   "cell_type": "markdown",
   "metadata": {},
   "source": [
    "***********\n",
    "# Steps After Python\n",
    "* Editing the HTML and CSS of the map page to display what we want -- text, legends, etc."
   ]
  },
  {
   "cell_type": "code",
   "execution_count": null,
   "metadata": {},
   "outputs": [],
   "source": []
  }
 ],
 "metadata": {
  "kernelspec": {
   "display_name": "Python 3",
   "language": "python",
   "name": "python3"
  },
  "language_info": {
   "codemirror_mode": {
    "name": "ipython",
    "version": 3
   },
   "file_extension": ".py",
   "mimetype": "text/x-python",
   "name": "python",
   "nbconvert_exporter": "python",
   "pygments_lexer": "ipython3",
   "version": "3.8.2"
  }
 },
 "nbformat": 4,
 "nbformat_minor": 4
}
